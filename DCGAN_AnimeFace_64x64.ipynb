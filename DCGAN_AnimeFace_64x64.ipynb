{
  "cells": [
    {
      "cell_type": "markdown",
      "metadata": {
        "id": "d8iZaUzbf3mL"
      },
      "source": [
        "# DCGAN 训练：AnimeFace 数据集 (64x64 分辨率)\n",
        "\n",
        "本项目使用 DCGAN 模型在 anime-face-character-dataset 上训练生成动漫脸图像。\n",
        "注意：目前模型架构和训练设置过于简单，需要优化。"
      ]
    },
    {
      "cell_type": "code",
      "execution_count": null,
      "metadata": {
        "id": "dI9XJMumf3mN"
      },
      "outputs": [],
      "source": [
        "# ✅ 安装依赖\n",
        "!pip install torchvision tqdm\n",
        "import os\n",
        "import torch\n",
        "import torch.nn as nn\n",
        "import torchvision\n",
        "from torchvision import transforms\n",
        "from torchvision.utils import save_image\n",
        "from torch.utils.data import DataLoader\n",
        "from tqdm import tqdm"
      ]
    },
    {
      "cell_type": "code",
      "execution_count": null,
      "metadata": {
        "id": "-DjHUJZLf3mO"
      },
      "outputs": [],
      "source": [
        "# ✅ 解压 AnimeFace 数据集\n",
        "!unzip -q animefaces.zip -d ./data/anime_faces"
      ]
    },
    {
      "cell_type": "code",
      "execution_count": null,
      "metadata": {
        "id": "y_lExbJQf3mO"
      },
      "outputs": [],
      "source": [
        "# ✅ 定义 DCGAN 模型\n",
        "class Generator(nn.Module):\n",
        "    def __init__(self, z_dim=100):\n",
        "        super().__init__()\n",
        "        self.model = nn.Sequential(\n",
        "            nn.ConvTranspose2d(z_dim, 256, 4, 1, 0),\n",
        "            nn.BatchNorm2d(256),\n",
        "            nn.ReLU(),\n",
        "            nn.ConvTranspose2d(256, 128, 4, 2, 1),\n",
        "            nn.BatchNorm2d(128),\n",
        "            nn.ReLU(),\n",
        "            nn.ConvTranspose2d(128, 64, 4, 2, 1),\n",
        "            nn.BatchNorm2d(64),\n",
        "            nn.ReLU(),\n",
        "            nn.ConvTranspose2d(64, 3, 4, 2, 1),\n",
        "            nn.Tanh(),\n",
        "        )\n",
        "    def forward(self, x):\n",
        "        return self.model(x)\n",
        "\n",
        "class Discriminator(nn.Module):\n",
        "    def __init__(self):\n",
        "        super().__init__()\n",
        "        self.model = nn.Sequential(\n",
        "            nn.Conv2d(3, 64, 4, 2, 1),\n",
        "            nn.LeakyReLU(0.2),\n",
        "            nn.Conv2d(64, 128, 4, 2, 1),\n",
        "            nn.BatchNorm2d(128),\n",
        "            nn.LeakyReLU(0.2),\n",
        "            nn.Conv2d(128, 256, 4, 2, 1),\n",
        "            nn.BatchNorm2d(256),\n",
        "            nn.LeakyReLU(0.2),\n",
        "            nn.Conv2d(256, 1, 4, 1, 0),\n",
        "            nn.Sigmoid()\n",
        "        )\n",
        "    def forward(self, x):\n",
        "        return self.model(x).view(-1)"
      ]
    },
    {
      "cell_type": "code",
      "execution_count": null,
      "metadata": {
        "id": "iWLnZgGDf3mP"
      },
      "outputs": [],
      "source": [
        "# ✅ 准备训练环境\n",
        "device = 'cuda' if torch.cuda.is_available() else 'cpu'\n",
        "z_dim = 100\n",
        "lr = 0.0002\n",
        "batch_size = 64\n",
        "epochs = 20\n",
        "\n",
        "transform = transforms.Compose([\n",
        "    transforms.Resize(64),\n",
        "    transforms.CenterCrop(64),\n",
        "    transforms.ToTensor(),\n",
        "    transforms.Normalize([0.5]*3, [0.5]*3),\n",
        "])\n",
        "\n",
        "dataset = torchvision.datasets.ImageFolder('./data/anime_faces', transform=transform)\n",
        "dataloader = DataLoader(dataset, batch_size=batch_size, shuffle=True)\n",
        "\n",
        "G = Generator(z_dim).to(device)\n",
        "D = Discriminator().to(device)\n",
        "\n",
        "opt_G = torch.optim.Adam(G.parameters(), lr=lr, betas=(0.5, 0.999))\n",
        "opt_D = torch.optim.Adam(D.parameters(), lr=lr, betas=(0.5, 0.999))\n",
        "loss_fn = nn.BCELoss()\n",
        "os.makedirs(\"output_images\", exist_ok=True)"
      ]
    },
    {
      "cell_type": "code",
      "execution_count": null,
      "metadata": {
        "id": "wDs25EPif3mP"
      },
      "outputs": [],
      "source": [
        "# ✅ 训练 DCGAN\n",
        "for epoch in range(epochs):\n",
        "    for real, _ in tqdm(dataloader):\n",
        "        real = real.to(device)\n",
        "        b_size = real.size(0)\n",
        "        noise = torch.randn(b_size, z_dim, 1, 1, device=device)\n",
        "        fake = G(noise)\n",
        "\n",
        "        # Train D\n",
        "        D_real = D(real)\n",
        "        D_fake = D(fake.detach())\n",
        "        loss_D = loss_fn(D_real, torch.ones_like(D_real)) + loss_fn(D_fake, torch.zeros_like(D_fake))\n",
        "        opt_D.zero_grad(); loss_D.backward(); opt_D.step()\n",
        "\n",
        "        # Train G\n",
        "        output = D(fake)\n",
        "        loss_G = loss_fn(output, torch.ones_like(output))\n",
        "        opt_G.zero_grad(); loss_G.backward(); opt_G.step()\n",
        "\n",
        "    save_image(fake.data[:64], f\"output_images/epoch_{epoch+1}.png\", normalize=True)\n",
        "    print(f\"Epoch {epoch+1} completed.\")"
      ]
    },
    {
      "cell_type": "code",
      "execution_count": null,
      "metadata": {
        "id": "g6lSKSL9f3mP"
      },
      "outputs": [],
      "source": [
        "# ✅ 保存模型参数\n",
        "torch.save(G.state_dict(), 'dcgan_generator.pth')\n",
        "torch.save(D.state_dict(), 'dcgan_discriminator.pth')\n",
        "print('✅ 模型已保存为 dcgan_generator.pth 和 dcgan_discriminator.pth')"
      ]
    },
    {
      "cell_type": "code",
      "execution_count": null,
      "metadata": {
        "id": "9rbnzhZ4f3mQ"
      },
      "outputs": [],
      "source": [
        "# ✅ 生成自定义数量动漫脸图像\n",
        "G.eval()\n",
        "num_to_generate = 1000\n",
        "os.makedirs(\"output_1000\", exist_ok=True)\n",
        "with torch.no_grad():\n",
        "    for i in range(num_to_generate):\n",
        "        z = torch.randn(1, z_dim, 1, 1, device=device)\n",
        "        img = G(z)\n",
        "        save_image(img, f\"output_1000/{i:04d}.png\", normalize=True)\n",
        "print(f\"✅ 生成完成，共生成 {num_to_generate} 张图像\")"
      ]
    }
  ],
  "metadata": {
    "kernelspec": {
      "display_name": "Python 3",
      "language": "python",
      "name": "python3"
    },
    "language_info": {
      "name": "python",
      "version": "3.9"
    },
    "colab": {
      "provenance": [],
      "toc_visible": true
    }
  },
  "nbformat": 4,
  "nbformat_minor": 0
}